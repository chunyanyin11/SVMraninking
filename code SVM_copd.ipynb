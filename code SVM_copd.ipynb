{
 "cells": [
  {
   "cell_type": "code",
   "execution_count": 2,
   "metadata": {
    "collapsed": false
   },
   "outputs": [
    {
     "name": "stdout",
     "output_type": "stream",
     "text": [
      " Volume in drive C is Windows\n",
      " Volume Serial Number is 869F-893B\n",
      "\n",
      " Directory of C:\\Users\\vanya\\Desktop\\lab\\Thesis dissertation\\Final versions\\Untitled Folder\n",
      "\n",
      "09/12/2017  01:12 PM    <DIR>          .\n",
      "09/12/2017  01:12 PM    <DIR>          ..\n",
      "09/12/2017  11:29 AM    <DIR>          .ipynb_checkpoints\n",
      "09/12/2017  01:12 PM            79,482 code SVM_copd.ipynb\n",
      "09/12/2017  11:33 AM           250,612 COPD data.xlsx\n",
      "09/12/2017  12:59 PM           181,987 svr1.xlsx\n",
      "               3 File(s)        512,081 bytes\n",
      "               3 Dir(s)  140,754,305,024 bytes free\n"
     ]
    }
   ],
   "source": [
    "ls"
   ]
  },
  {
   "cell_type": "code",
   "execution_count": 3,
   "metadata": {
    "collapsed": true
   },
   "outputs": [],
   "source": [
    "import pandas as pd\n"
   ]
  },
  {
   "cell_type": "code",
   "execution_count": 4,
   "metadata": {
    "collapsed": true
   },
   "outputs": [],
   "source": [
    "data = pd.read_excel(\"COPD data.xlsx\")"
   ]
  },
  {
   "cell_type": "code",
   "execution_count": 5,
   "metadata": {
    "collapsed": false
   },
   "outputs": [
    {
     "data": {
      "text/html": [
       "<div>\n",
       "<table border=\"1\" class=\"dataframe\">\n",
       "  <thead>\n",
       "    <tr style=\"text-align: right;\">\n",
       "      <th></th>\n",
       "      <th>Primary ID</th>\n",
       "      <th>Activity increasing 1 to 3</th>\n",
       "      <th>20.50_100.0071</th>\n",
       "      <th>13.04_100.0127</th>\n",
       "      <th>18.91_100.0157</th>\n",
       "      <th>6.44_101.0054</th>\n",
       "      <th>17.18_101.0069</th>\n",
       "      <th>20.42_101.0079</th>\n",
       "      <th>13.33_101.0091</th>\n",
       "      <th>4.56_101.0093</th>\n",
       "      <th>...</th>\n",
       "      <th>14.73_1103.0706</th>\n",
       "      <th>15.45_1104.2050</th>\n",
       "      <th>16.78_1104.9366</th>\n",
       "      <th>18.25_1104.9609</th>\n",
       "      <th>1.54_1105.0190</th>\n",
       "      <th>1.72_1105.0543</th>\n",
       "      <th>11.40_1105.0599</th>\n",
       "      <th>16.75_1105.1992</th>\n",
       "      <th>6.25_1105.2039</th>\n",
       "      <th>14.27_1105.2581</th>\n",
       "    </tr>\n",
       "  </thead>\n",
       "  <tbody>\n",
       "    <tr>\n",
       "      <th>0</th>\n",
       "      <td>oli_BG11_1</td>\n",
       "      <td>1</td>\n",
       "      <td>0.185809</td>\n",
       "      <td>0.000000</td>\n",
       "      <td>0.000000</td>\n",
       "      <td>0.675130</td>\n",
       "      <td>0.349221</td>\n",
       "      <td>0.861746</td>\n",
       "      <td>0.000000</td>\n",
       "      <td>0.000000</td>\n",
       "      <td>...</td>\n",
       "      <td>0.000000</td>\n",
       "      <td>0.000000</td>\n",
       "      <td>0.603189</td>\n",
       "      <td>0.000000</td>\n",
       "      <td>0.299688</td>\n",
       "      <td>0.000000</td>\n",
       "      <td>0.000000</td>\n",
       "      <td>0.472283</td>\n",
       "      <td>0.000000</td>\n",
       "      <td>0.00000</td>\n",
       "    </tr>\n",
       "    <tr>\n",
       "      <th>1</th>\n",
       "      <td>oli_BG11_2</td>\n",
       "      <td>1</td>\n",
       "      <td>0.000000</td>\n",
       "      <td>0.111154</td>\n",
       "      <td>0.298894</td>\n",
       "      <td>0.178744</td>\n",
       "      <td>0.988472</td>\n",
       "      <td>0.934429</td>\n",
       "      <td>0.761599</td>\n",
       "      <td>0.531901</td>\n",
       "      <td>...</td>\n",
       "      <td>0.123901</td>\n",
       "      <td>0.000000</td>\n",
       "      <td>0.000000</td>\n",
       "      <td>0.000000</td>\n",
       "      <td>0.000000</td>\n",
       "      <td>0.000000</td>\n",
       "      <td>0.225575</td>\n",
       "      <td>0.000000</td>\n",
       "      <td>0.000000</td>\n",
       "      <td>0.00000</td>\n",
       "    </tr>\n",
       "    <tr>\n",
       "      <th>2</th>\n",
       "      <td>oli_Lin_1</td>\n",
       "      <td>2</td>\n",
       "      <td>0.252089</td>\n",
       "      <td>0.000000</td>\n",
       "      <td>0.000000</td>\n",
       "      <td>0.059907</td>\n",
       "      <td>0.161149</td>\n",
       "      <td>0.253580</td>\n",
       "      <td>0.238817</td>\n",
       "      <td>0.143787</td>\n",
       "      <td>...</td>\n",
       "      <td>0.000000</td>\n",
       "      <td>0.144911</td>\n",
       "      <td>0.000000</td>\n",
       "      <td>0.098195</td>\n",
       "      <td>0.058754</td>\n",
       "      <td>0.033626</td>\n",
       "      <td>0.000000</td>\n",
       "      <td>0.053972</td>\n",
       "      <td>0.055397</td>\n",
       "      <td>0.07207</td>\n",
       "    </tr>\n",
       "    <tr>\n",
       "      <th>3</th>\n",
       "      <td>oli_Lin_2</td>\n",
       "      <td>2</td>\n",
       "      <td>0.035084</td>\n",
       "      <td>0.000000</td>\n",
       "      <td>0.027568</td>\n",
       "      <td>0.267914</td>\n",
       "      <td>0.177461</td>\n",
       "      <td>0.169619</td>\n",
       "      <td>0.177797</td>\n",
       "      <td>0.142990</td>\n",
       "      <td>...</td>\n",
       "      <td>0.000000</td>\n",
       "      <td>0.104538</td>\n",
       "      <td>0.104953</td>\n",
       "      <td>0.000000</td>\n",
       "      <td>0.000000</td>\n",
       "      <td>0.000000</td>\n",
       "      <td>0.000000</td>\n",
       "      <td>0.000000</td>\n",
       "      <td>0.000000</td>\n",
       "      <td>0.00000</td>\n",
       "    </tr>\n",
       "    <tr>\n",
       "      <th>4</th>\n",
       "      <td>oli_Cr_1</td>\n",
       "      <td>3</td>\n",
       "      <td>0.081587</td>\n",
       "      <td>0.000000</td>\n",
       "      <td>0.000000</td>\n",
       "      <td>0.044250</td>\n",
       "      <td>0.078733</td>\n",
       "      <td>0.080151</td>\n",
       "      <td>0.333392</td>\n",
       "      <td>0.000000</td>\n",
       "      <td>...</td>\n",
       "      <td>0.055728</td>\n",
       "      <td>0.000000</td>\n",
       "      <td>0.000000</td>\n",
       "      <td>0.000000</td>\n",
       "      <td>0.037059</td>\n",
       "      <td>0.000000</td>\n",
       "      <td>0.040548</td>\n",
       "      <td>0.000000</td>\n",
       "      <td>0.000000</td>\n",
       "      <td>0.00000</td>\n",
       "    </tr>\n",
       "    <tr>\n",
       "      <th>5</th>\n",
       "      <td>oli_Cr_2</td>\n",
       "      <td>3</td>\n",
       "      <td>0.000000</td>\n",
       "      <td>0.085671</td>\n",
       "      <td>0.000000</td>\n",
       "      <td>0.000000</td>\n",
       "      <td>0.126500</td>\n",
       "      <td>0.000000</td>\n",
       "      <td>0.359735</td>\n",
       "      <td>0.000000</td>\n",
       "      <td>...</td>\n",
       "      <td>0.000000</td>\n",
       "      <td>0.039854</td>\n",
       "      <td>0.000000</td>\n",
       "      <td>0.000000</td>\n",
       "      <td>0.000000</td>\n",
       "      <td>0.000000</td>\n",
       "      <td>0.000000</td>\n",
       "      <td>0.000000</td>\n",
       "      <td>0.000000</td>\n",
       "      <td>0.00000</td>\n",
       "    </tr>\n",
       "  </tbody>\n",
       "</table>\n",
       "<p>6 rows × 4365 columns</p>\n",
       "</div>"
      ],
      "text/plain": [
       "   Primary ID  Activity increasing 1 to 3  20.50_100.0071  13.04_100.0127  \\\n",
       "0  oli_BG11_1                           1        0.185809        0.000000   \n",
       "1  oli_BG11_2                           1        0.000000        0.111154   \n",
       "2   oli_Lin_1                           2        0.252089        0.000000   \n",
       "3   oli_Lin_2                           2        0.035084        0.000000   \n",
       "4    oli_Cr_1                           3        0.081587        0.000000   \n",
       "5    oli_Cr_2                           3        0.000000        0.085671   \n",
       "\n",
       "   18.91_100.0157  6.44_101.0054  17.18_101.0069  20.42_101.0079  \\\n",
       "0        0.000000       0.675130        0.349221        0.861746   \n",
       "1        0.298894       0.178744        0.988472        0.934429   \n",
       "2        0.000000       0.059907        0.161149        0.253580   \n",
       "3        0.027568       0.267914        0.177461        0.169619   \n",
       "4        0.000000       0.044250        0.078733        0.080151   \n",
       "5        0.000000       0.000000        0.126500        0.000000   \n",
       "\n",
       "   13.33_101.0091  4.56_101.0093       ...         14.73_1103.0706  \\\n",
       "0        0.000000       0.000000       ...                0.000000   \n",
       "1        0.761599       0.531901       ...                0.123901   \n",
       "2        0.238817       0.143787       ...                0.000000   \n",
       "3        0.177797       0.142990       ...                0.000000   \n",
       "4        0.333392       0.000000       ...                0.055728   \n",
       "5        0.359735       0.000000       ...                0.000000   \n",
       "\n",
       "   15.45_1104.2050  16.78_1104.9366  18.25_1104.9609  1.54_1105.0190  \\\n",
       "0         0.000000         0.603189         0.000000        0.299688   \n",
       "1         0.000000         0.000000         0.000000        0.000000   \n",
       "2         0.144911         0.000000         0.098195        0.058754   \n",
       "3         0.104538         0.104953         0.000000        0.000000   \n",
       "4         0.000000         0.000000         0.000000        0.037059   \n",
       "5         0.039854         0.000000         0.000000        0.000000   \n",
       "\n",
       "   1.72_1105.0543  11.40_1105.0599  16.75_1105.1992  6.25_1105.2039  \\\n",
       "0        0.000000         0.000000         0.472283        0.000000   \n",
       "1        0.000000         0.225575         0.000000        0.000000   \n",
       "2        0.033626         0.000000         0.053972        0.055397   \n",
       "3        0.000000         0.000000         0.000000        0.000000   \n",
       "4        0.000000         0.040548         0.000000        0.000000   \n",
       "5        0.000000         0.000000         0.000000        0.000000   \n",
       "\n",
       "   14.27_1105.2581  \n",
       "0          0.00000  \n",
       "1          0.00000  \n",
       "2          0.07207  \n",
       "3          0.00000  \n",
       "4          0.00000  \n",
       "5          0.00000  \n",
       "\n",
       "[6 rows x 4365 columns]"
      ]
     },
     "execution_count": 5,
     "metadata": {},
     "output_type": "execute_result"
    }
   ],
   "source": [
    "data"
   ]
  },
  {
   "cell_type": "code",
   "execution_count": 6,
   "metadata": {
    "collapsed": false
   },
   "outputs": [
    {
     "data": {
      "text/plain": [
       "Index(['Primary ID', 'Activity increasing 1 to 3', '20.50_100.0071',\n",
       "       '13.04_100.0127', '18.91_100.0157', '6.44_101.0054', '17.18_101.0069',\n",
       "       '20.42_101.0079', '13.33_101.0091', '4.56_101.0093',\n",
       "       ...\n",
       "       '14.73_1103.0706', '15.45_1104.2050', '16.78_1104.9366',\n",
       "       '18.25_1104.9609', '1.54_1105.0190', '1.72_1105.0543',\n",
       "       '11.40_1105.0599', '16.75_1105.1992', '6.25_1105.2039',\n",
       "       '14.27_1105.2581'],\n",
       "      dtype='object', length=4365)"
      ]
     },
     "execution_count": 6,
     "metadata": {},
     "output_type": "execute_result"
    }
   ],
   "source": [
    "data.keys()"
   ]
  },
  {
   "cell_type": "code",
   "execution_count": 126,
   "metadata": {
    "collapsed": false
   },
   "outputs": [],
   "source": [
    "shuffled_data = data.sample(frac=1)"
   ]
  },
  {
   "cell_type": "code",
   "execution_count": 127,
   "metadata": {
    "collapsed": false
   },
   "outputs": [],
   "source": [
    "y_train = shuffled_data['Activity increasing 1 to 3']"
   ]
  },
  {
   "cell_type": "code",
   "execution_count": 128,
   "metadata": {
    "collapsed": false
   },
   "outputs": [],
   "source": [
    "x_train = shuffled_data.iloc[:,2:]"
   ]
  },
  {
   "cell_type": "code",
   "execution_count": 129,
   "metadata": {
    "collapsed": true
   },
   "outputs": [],
   "source": [
    "from sklearn.svm import SVR"
   ]
  },
  {
   "cell_type": "code",
   "execution_count": 130,
   "metadata": {
    "collapsed": false
   },
   "outputs": [
    {
     "data": {
      "text/plain": [
       "'0.19.0'"
      ]
     },
     "execution_count": 130,
     "metadata": {},
     "output_type": "execute_result"
    }
   ],
   "source": [
    "import sklearn\n",
    "sklearn.__version__"
   ]
  },
  {
   "cell_type": "code",
   "execution_count": 131,
   "metadata": {
    "collapsed": true
   },
   "outputs": [],
   "source": [
    "svr_lin = SVR(kernel='linear', C=1e3)\n",
    "svr_lin_weight = SVR(kernel='linear', C=1e3)"
   ]
  },
  {
   "cell_type": "code",
   "execution_count": 132,
   "metadata": {
    "collapsed": true
   },
   "outputs": [],
   "source": [
    "y_lin_weight = svr_lin.fit(x_train, y_train, sample_weight=weights).predict(x_train)"
   ]
  },
  {
   "cell_type": "code",
   "execution_count": 133,
   "metadata": {
    "collapsed": true
   },
   "outputs": [],
   "source": [
    "y_lin = svr_lin.fit(x_train, y_train).predict(x_train)\n",
    "# svr_lin.fit(x, y, sample_weight=)"
   ]
  },
  {
   "cell_type": "code",
   "execution_count": 134,
   "metadata": {
    "collapsed": false
   },
   "outputs": [
    {
     "data": {
      "text/plain": [
       "(1, 4363)"
      ]
     },
     "execution_count": 134,
     "metadata": {},
     "output_type": "execute_result"
    }
   ],
   "source": [
    "svr_lin.coef_.shape"
   ]
  },
  {
   "cell_type": "code",
   "execution_count": 135,
   "metadata": {
    "collapsed": false
   },
   "outputs": [
    {
     "data": {
      "text/plain": [
       "array([[ -2.32710749e-08,  -1.76687974e-07,  -4.75115383e-07, ...,\n",
       "         -4.84191188e-08,  -4.96975085e-08,  -6.46551155e-08]])"
      ]
     },
     "execution_count": 135,
     "metadata": {},
     "output_type": "execute_result"
    }
   ],
   "source": [
    "svr_lin.coef_"
   ]
  },
  {
   "cell_type": "code",
   "execution_count": 136,
   "metadata": {
    "collapsed": false
   },
   "outputs": [
    {
     "data": {
      "text/plain": [
       "(6, 4363)"
      ]
     },
     "execution_count": 136,
     "metadata": {},
     "output_type": "execute_result"
    }
   ],
   "source": [
    "x_train.shape"
   ]
  },
  {
   "cell_type": "code",
   "execution_count": 137,
   "metadata": {
    "collapsed": false
   },
   "outputs": [
    {
     "data": {
      "text/plain": [
       "<Container object of 4363 artists>"
      ]
     },
     "execution_count": 137,
     "metadata": {},
     "output_type": "execute_result"
    },
    {
     "data": {
      "image/png": "[encoded data removed]",
      "text/plain": [
       "<matplotlib.figure.Figure at 0x27ff0ccd908>"
      ]
     },
     "metadata": {},
     "output_type": "display_data"
    }
   ],
   "source": [
    "%matplotlib inline\n",
    "\n",
    "import matplotlib.pyplot as plt\n",
    "\n",
    "fig, ax = plt.subplots()\n",
    "ax.bar(range(x_train.shape[1]), svr_lin.coef_.squeeze())\n"
   ]
  },
  {
   "cell_type": "code",
   "execution_count": 138,
   "metadata": {
    "collapsed": false
   },
   "outputs": [
    {
     "data": {
      "text/plain": [
       "(3, 4363)"
      ]
     },
     "execution_count": 138,
     "metadata": {},
     "output_type": "execute_result"
    }
   ],
   "source": [
    "svr_lin.support_vectors_.shape"
   ]
  },
  {
   "cell_type": "code",
   "execution_count": 139,
   "metadata": {
    "collapsed": false
   },
   "outputs": [
    {
     "data": {
      "text/plain": [
       "<Container object of 4363 artists>"
      ]
     },
     "execution_count": 139,
     "metadata": {},
     "output_type": "execute_result"
    },
    {
     "data": {
      "image/png": "[encoded data removed]",
      "text/plain": [
       "<matplotlib.figure.Figure at 0x27ff526cf60>"
      ]
     },
     "metadata": {},
     "output_type": "display_data"
    }
   ],
   "source": [
    "level3 = svr_lin.support_vectors_[2]\n",
    "# change number to 1 and 0 for activity 2 and 1 respectively\n",
    "level2 = svr_lin.support_vectors_[1]\n",
    "level1 = svr_lin.support_vectors_[0]\n",
    "fig, ax = plt.subplots()\n",
    "ax.bar(range(x_train.shape[1]), level3.squeeze())\n"
   ]
  },
  {
   "cell_type": "code",
   "execution_count": 110,
   "metadata": {
    "collapsed": false
   },
   "outputs": [
    {
     "ename": "SyntaxError",
     "evalue": "invalid syntax (<ipython-input-110-3b3b5e35ffeb>, line 3)",
     "output_type": "error",
     "traceback": [
      "\u001b[0;36m  File \u001b[0;32m\"<ipython-input-110-3b3b5e35ffeb>\"\u001b[0;36m, line \u001b[0;32m3\u001b[0m\n\u001b[0;31m    svr_lin.coef_.squeeze())),\u001b[0m\n\u001b[0m          ^\u001b[0m\n\u001b[0;31mSyntaxError\u001b[0m\u001b[0;31m:\u001b[0m invalid syntax\n"
     ]
    }
   ],
   "source": [
    "import numpy as np\n",
    "l3id = pd.DataFrame(list(zip(data.keys()[2:],level3, 0 \n",
    "                             svr_lin.coef_.squeeze())),\n",
    "                    columns = [\"chem\", \"SVC3\", \"SVC_coeff\"]\n",
    "                   )"
   ]
  },
  {
   "cell_type": "code",
   "execution_count": 140,
   "metadata": {
    "collapsed": false
   },
   "outputs": [
    {
     "data": {
      "text/html": [
       "<div>\n",
       "<table border=\"1\" class=\"dataframe\">\n",
       "  <thead>\n",
       "    <tr style=\"text-align: right;\">\n",
       "      <th></th>\n",
       "      <th>chem</th>\n",
       "      <th>SVC3</th>\n",
       "      <th>SVC_coeff</th>\n",
       "    </tr>\n",
       "  </thead>\n",
       "  <tbody>\n",
       "    <tr>\n",
       "      <th>3063</th>\n",
       "      <td>16.96_433.1068</td>\n",
       "      <td>651.489600</td>\n",
       "      <td>4.461197e-05</td>\n",
       "    </tr>\n",
       "    <tr>\n",
       "      <th>3604</th>\n",
       "      <td>17.48_493.1334</td>\n",
       "      <td>432.551700</td>\n",
       "      <td>6.042824e-05</td>\n",
       "    </tr>\n",
       "    <tr>\n",
       "      <th>3472</th>\n",
       "      <td>17.01_479.1176</td>\n",
       "      <td>180.226700</td>\n",
       "      <td>2.089164e-04</td>\n",
       "    </tr>\n",
       "    <tr>\n",
       "      <th>3192</th>\n",
       "      <td>14.81_449.1155</td>\n",
       "      <td>127.528800</td>\n",
       "      <td>4.773064e-04</td>\n",
       "    </tr>\n",
       "    <tr>\n",
       "      <th>3448</th>\n",
       "      <td>17.40_477.1413</td>\n",
       "      <td>67.212060</td>\n",
       "      <td>1.117411e-04</td>\n",
       "    </tr>\n",
       "    <tr>\n",
       "      <th>3056</th>\n",
       "      <td>16.99_432.1074</td>\n",
       "      <td>58.268950</td>\n",
       "      <td>1.388475e-05</td>\n",
       "    </tr>\n",
       "    <tr>\n",
       "      <th>3449</th>\n",
       "      <td>19.31_477.1530</td>\n",
       "      <td>58.227940</td>\n",
       "      <td>6.896671e-05</td>\n",
       "    </tr>\n",
       "    <tr>\n",
       "      <th>3474</th>\n",
       "      <td>13.48_479.1215</td>\n",
       "      <td>55.645920</td>\n",
       "      <td>4.912398e-04</td>\n",
       "    </tr>\n",
       "    <tr>\n",
       "      <th>3602</th>\n",
       "      <td>15.67_493.1226</td>\n",
       "      <td>53.301290</td>\n",
       "      <td>1.425474e-05</td>\n",
       "    </tr>\n",
       "    <tr>\n",
       "      <th>995</th>\n",
       "      <td>20.67_655.1701</td>\n",
       "      <td>38.801170</td>\n",
       "      <td>1.616041e-04</td>\n",
       "    </tr>\n",
       "    <tr>\n",
       "      <th>3629</th>\n",
       "      <td>15.36_495.1313</td>\n",
       "      <td>37.515300</td>\n",
       "      <td>1.689924e-05</td>\n",
       "    </tr>\n",
       "    <tr>\n",
       "      <th>3627</th>\n",
       "      <td>15.49_495.0977</td>\n",
       "      <td>37.387590</td>\n",
       "      <td>1.257617e-05</td>\n",
       "    </tr>\n",
       "    <tr>\n",
       "      <th>1910</th>\n",
       "      <td>15.69_301.0597</td>\n",
       "      <td>36.229760</td>\n",
       "      <td>8.534539e-06</td>\n",
       "    </tr>\n",
       "    <tr>\n",
       "      <th>3187</th>\n",
       "      <td>19.07_447.1415</td>\n",
       "      <td>30.537220</td>\n",
       "      <td>4.446911e-04</td>\n",
       "    </tr>\n",
       "    <tr>\n",
       "      <th>3160</th>\n",
       "      <td>17.45_446.1254</td>\n",
       "      <td>30.339260</td>\n",
       "      <td>3.120885e-05</td>\n",
       "    </tr>\n",
       "    <tr>\n",
       "      <th>2036</th>\n",
       "      <td>17.80_317.0514</td>\n",
       "      <td>29.973180</td>\n",
       "      <td>7.153488e-05</td>\n",
       "    </tr>\n",
       "    <tr>\n",
       "      <th>3446</th>\n",
       "      <td>15.56_477.1074</td>\n",
       "      <td>29.506940</td>\n",
       "      <td>2.462941e-06</td>\n",
       "    </tr>\n",
       "    <tr>\n",
       "      <th>3921</th>\n",
       "      <td>15.53_525.1212</td>\n",
       "      <td>28.225180</td>\n",
       "      <td>1.044798e-05</td>\n",
       "    </tr>\n",
       "    <tr>\n",
       "      <th>3923</th>\n",
       "      <td>15.50_525.1539</td>\n",
       "      <td>27.120960</td>\n",
       "      <td>1.236709e-05</td>\n",
       "    </tr>\n",
       "    <tr>\n",
       "      <th>1817</th>\n",
       "      <td>9.99_289.0963</td>\n",
       "      <td>24.895950</td>\n",
       "      <td>2.003329e-04</td>\n",
       "    </tr>\n",
       "    <tr>\n",
       "      <th>65</th>\n",
       "      <td>8.48_577.1999</td>\n",
       "      <td>22.396890</td>\n",
       "      <td>1.333574e-04</td>\n",
       "    </tr>\n",
       "    <tr>\n",
       "      <th>2189</th>\n",
       "      <td>16.68_333.0924</td>\n",
       "      <td>16.908940</td>\n",
       "      <td>2.558243e-04</td>\n",
       "    </tr>\n",
       "    <tr>\n",
       "      <th>412</th>\n",
       "      <td>20.66_608.1484</td>\n",
       "      <td>15.967280</td>\n",
       "      <td>1.290919e-05</td>\n",
       "    </tr>\n",
       "    <tr>\n",
       "      <th>2633</th>\n",
       "      <td>11.68_865.2297</td>\n",
       "      <td>12.615750</td>\n",
       "      <td>4.822054e-05</td>\n",
       "    </tr>\n",
       "    <tr>\n",
       "      <th>413</th>\n",
       "      <td>20.61_608.1839</td>\n",
       "      <td>12.593920</td>\n",
       "      <td>5.423114e-06</td>\n",
       "    </tr>\n",
       "    <tr>\n",
       "      <th>3070</th>\n",
       "      <td>15.52_927.2249</td>\n",
       "      <td>12.194420</td>\n",
       "      <td>4.619311e-07</td>\n",
       "    </tr>\n",
       "    <tr>\n",
       "      <th>3072</th>\n",
       "      <td>15.52_927.2874</td>\n",
       "      <td>12.107790</td>\n",
       "      <td>5.569833e-07</td>\n",
       "    </tr>\n",
       "    <tr>\n",
       "      <th>3339</th>\n",
       "      <td>17.83_463.1360</td>\n",
       "      <td>10.703920</td>\n",
       "      <td>9.631984e-05</td>\n",
       "    </tr>\n",
       "    <tr>\n",
       "      <th>3157</th>\n",
       "      <td>17.52_445.1132</td>\n",
       "      <td>9.370454</td>\n",
       "      <td>9.810671e-06</td>\n",
       "    </tr>\n",
       "    <tr>\n",
       "      <th>3189</th>\n",
       "      <td>14.83_448.1096</td>\n",
       "      <td>9.245850</td>\n",
       "      <td>5.686467e-05</td>\n",
       "    </tr>\n",
       "    <tr>\n",
       "      <th>...</th>\n",
       "      <td>...</td>\n",
       "      <td>...</td>\n",
       "      <td>...</td>\n",
       "    </tr>\n",
       "    <tr>\n",
       "      <th>1747</th>\n",
       "      <td>4.11_283.0155</td>\n",
       "      <td>0.000000</td>\n",
       "      <td>1.078777e-06</td>\n",
       "    </tr>\n",
       "    <tr>\n",
       "      <th>1745</th>\n",
       "      <td>13.27_281.0179</td>\n",
       "      <td>0.000000</td>\n",
       "      <td>2.836671e-07</td>\n",
       "    </tr>\n",
       "    <tr>\n",
       "      <th>1737</th>\n",
       "      <td>13.50_745.1037</td>\n",
       "      <td>0.000000</td>\n",
       "      <td>4.047802e-07</td>\n",
       "    </tr>\n",
       "    <tr>\n",
       "      <th>1729</th>\n",
       "      <td>4.30_743.1299</td>\n",
       "      <td>0.000000</td>\n",
       "      <td>1.529246e-08</td>\n",
       "    </tr>\n",
       "    <tr>\n",
       "      <th>1727</th>\n",
       "      <td>13.63_742.2443</td>\n",
       "      <td>0.000000</td>\n",
       "      <td>4.743368e-07</td>\n",
       "    </tr>\n",
       "    <tr>\n",
       "      <th>1725</th>\n",
       "      <td>4.43_741.1216</td>\n",
       "      <td>0.000000</td>\n",
       "      <td>4.901502e-08</td>\n",
       "    </tr>\n",
       "    <tr>\n",
       "      <th>1724</th>\n",
       "      <td>8.30_741.0978</td>\n",
       "      <td>0.000000</td>\n",
       "      <td>2.320831e-07</td>\n",
       "    </tr>\n",
       "    <tr>\n",
       "      <th>1722</th>\n",
       "      <td>17.79_280.8769</td>\n",
       "      <td>0.000000</td>\n",
       "      <td>1.845370e-07</td>\n",
       "    </tr>\n",
       "    <tr>\n",
       "      <th>1717</th>\n",
       "      <td>16.50_278.9303</td>\n",
       "      <td>0.000000</td>\n",
       "      <td>2.417854e-07</td>\n",
       "    </tr>\n",
       "    <tr>\n",
       "      <th>1714</th>\n",
       "      <td>18.65_277.1816</td>\n",
       "      <td>0.000000</td>\n",
       "      <td>3.322926e-07</td>\n",
       "    </tr>\n",
       "    <tr>\n",
       "      <th>1769</th>\n",
       "      <td>8.92_751.2440</td>\n",
       "      <td>0.000000</td>\n",
       "      <td>2.424269e-06</td>\n",
       "    </tr>\n",
       "    <tr>\n",
       "      <th>1773</th>\n",
       "      <td>11.56_285.0599</td>\n",
       "      <td>0.000000</td>\n",
       "      <td>1.031684e-07</td>\n",
       "    </tr>\n",
       "    <tr>\n",
       "      <th>1850</th>\n",
       "      <td>13.27_293.0271</td>\n",
       "      <td>0.000000</td>\n",
       "      <td>3.091157e-07</td>\n",
       "    </tr>\n",
       "    <tr>\n",
       "      <th>1774</th>\n",
       "      <td>19.20_285.0635</td>\n",
       "      <td>0.000000</td>\n",
       "      <td>1.398945e-07</td>\n",
       "    </tr>\n",
       "    <tr>\n",
       "      <th>1840</th>\n",
       "      <td>15.32_291.0559</td>\n",
       "      <td>0.000000</td>\n",
       "      <td>1.352147e-06</td>\n",
       "    </tr>\n",
       "    <tr>\n",
       "      <th>1837</th>\n",
       "      <td>8.24_291.0064</td>\n",
       "      <td>0.000000</td>\n",
       "      <td>1.871734e-07</td>\n",
       "    </tr>\n",
       "    <tr>\n",
       "      <th>1832</th>\n",
       "      <td>13.65_758.2315</td>\n",
       "      <td>0.000000</td>\n",
       "      <td>1.452579e-06</td>\n",
       "    </tr>\n",
       "    <tr>\n",
       "      <th>1829</th>\n",
       "      <td>10.58_757.2127</td>\n",
       "      <td>0.000000</td>\n",
       "      <td>4.728607e-07</td>\n",
       "    </tr>\n",
       "    <tr>\n",
       "      <th>1825</th>\n",
       "      <td>13.23_755.2298</td>\n",
       "      <td>0.000000</td>\n",
       "      <td>1.383082e-06</td>\n",
       "    </tr>\n",
       "    <tr>\n",
       "      <th>1824</th>\n",
       "      <td>17.88_755.2066</td>\n",
       "      <td>0.000000</td>\n",
       "      <td>5.920824e-07</td>\n",
       "    </tr>\n",
       "    <tr>\n",
       "      <th>1823</th>\n",
       "      <td>12.49_755.1985</td>\n",
       "      <td>0.000000</td>\n",
       "      <td>2.790175e-07</td>\n",
       "    </tr>\n",
       "    <tr>\n",
       "      <th>1819</th>\n",
       "      <td>6.23_755.0725</td>\n",
       "      <td>0.000000</td>\n",
       "      <td>1.630649e-07</td>\n",
       "    </tr>\n",
       "    <tr>\n",
       "      <th>1801</th>\n",
       "      <td>1.83_755.0141</td>\n",
       "      <td>0.000000</td>\n",
       "      <td>1.949370e-07</td>\n",
       "    </tr>\n",
       "    <tr>\n",
       "      <th>1798</th>\n",
       "      <td>19.22_754.2409</td>\n",
       "      <td>0.000000</td>\n",
       "      <td>3.566217e-07</td>\n",
       "    </tr>\n",
       "    <tr>\n",
       "      <th>1797</th>\n",
       "      <td>16.16_753.2677</td>\n",
       "      <td>0.000000</td>\n",
       "      <td>4.249760e-06</td>\n",
       "    </tr>\n",
       "    <tr>\n",
       "      <th>1795</th>\n",
       "      <td>19.30_753.2509</td>\n",
       "      <td>0.000000</td>\n",
       "      <td>1.928364e-07</td>\n",
       "    </tr>\n",
       "    <tr>\n",
       "      <th>1792</th>\n",
       "      <td>8.34_753.1850</td>\n",
       "      <td>0.000000</td>\n",
       "      <td>9.447257e-07</td>\n",
       "    </tr>\n",
       "    <tr>\n",
       "      <th>1787</th>\n",
       "      <td>17.05_751.2782</td>\n",
       "      <td>0.000000</td>\n",
       "      <td>7.920438e-06</td>\n",
       "    </tr>\n",
       "    <tr>\n",
       "      <th>1777</th>\n",
       "      <td>9.98_285.0684</td>\n",
       "      <td>0.000000</td>\n",
       "      <td>1.361596e-06</td>\n",
       "    </tr>\n",
       "    <tr>\n",
       "      <th>4357</th>\n",
       "      <td>1.54_1105.0190</td>\n",
       "      <td>0.000000</td>\n",
       "      <td>3.944526e-08</td>\n",
       "    </tr>\n",
       "  </tbody>\n",
       "</table>\n",
       "<p>1424 rows × 3 columns</p>\n",
       "</div>"
      ],
      "text/plain": [
       "                chem        SVC3     SVC_coeff\n",
       "3063  16.96_433.1068  651.489600  4.461197e-05\n",
       "3604  17.48_493.1334  432.551700  6.042824e-05\n",
       "3472  17.01_479.1176  180.226700  2.089164e-04\n",
       "3192  14.81_449.1155  127.528800  4.773064e-04\n",
       "3448  17.40_477.1413   67.212060  1.117411e-04\n",
       "3056  16.99_432.1074   58.268950  1.388475e-05\n",
       "3449  19.31_477.1530   58.227940  6.896671e-05\n",
       "3474  13.48_479.1215   55.645920  4.912398e-04\n",
       "3602  15.67_493.1226   53.301290  1.425474e-05\n",
       "995   20.67_655.1701   38.801170  1.616041e-04\n",
       "3629  15.36_495.1313   37.515300  1.689924e-05\n",
       "3627  15.49_495.0977   37.387590  1.257617e-05\n",
       "1910  15.69_301.0597   36.229760  8.534539e-06\n",
       "3187  19.07_447.1415   30.537220  4.446911e-04\n",
       "3160  17.45_446.1254   30.339260  3.120885e-05\n",
       "2036  17.80_317.0514   29.973180  7.153488e-05\n",
       "3446  15.56_477.1074   29.506940  2.462941e-06\n",
       "3921  15.53_525.1212   28.225180  1.044798e-05\n",
       "3923  15.50_525.1539   27.120960  1.236709e-05\n",
       "1817   9.99_289.0963   24.895950  2.003329e-04\n",
       "65     8.48_577.1999   22.396890  1.333574e-04\n",
       "2189  16.68_333.0924   16.908940  2.558243e-04\n",
       "412   20.66_608.1484   15.967280  1.290919e-05\n",
       "2633  11.68_865.2297   12.615750  4.822054e-05\n",
       "413   20.61_608.1839   12.593920  5.423114e-06\n",
       "3070  15.52_927.2249   12.194420  4.619311e-07\n",
       "3072  15.52_927.2874   12.107790  5.569833e-07\n",
       "3339  17.83_463.1360   10.703920  9.631984e-05\n",
       "3157  17.52_445.1132    9.370454  9.810671e-06\n",
       "3189  14.83_448.1096    9.245850  5.686467e-05\n",
       "...              ...         ...           ...\n",
       "1747   4.11_283.0155    0.000000  1.078777e-06\n",
       "1745  13.27_281.0179    0.000000  2.836671e-07\n",
       "1737  13.50_745.1037    0.000000  4.047802e-07\n",
       "1729   4.30_743.1299    0.000000  1.529246e-08\n",
       "1727  13.63_742.2443    0.000000  4.743368e-07\n",
       "1725   4.43_741.1216    0.000000  4.901502e-08\n",
       "1724   8.30_741.0978    0.000000  2.320831e-07\n",
       "1722  17.79_280.8769    0.000000  1.845370e-07\n",
       "1717  16.50_278.9303    0.000000  2.417854e-07\n",
       "1714  18.65_277.1816    0.000000  3.322926e-07\n",
       "1769   8.92_751.2440    0.000000  2.424269e-06\n",
       "1773  11.56_285.0599    0.000000  1.031684e-07\n",
       "1850  13.27_293.0271    0.000000  3.091157e-07\n",
       "1774  19.20_285.0635    0.000000  1.398945e-07\n",
       "1840  15.32_291.0559    0.000000  1.352147e-06\n",
       "1837   8.24_291.0064    0.000000  1.871734e-07\n",
       "1832  13.65_758.2315    0.000000  1.452579e-06\n",
       "1829  10.58_757.2127    0.000000  4.728607e-07\n",
       "1825  13.23_755.2298    0.000000  1.383082e-06\n",
       "1824  17.88_755.2066    0.000000  5.920824e-07\n",
       "1823  12.49_755.1985    0.000000  2.790175e-07\n",
       "1819   6.23_755.0725    0.000000  1.630649e-07\n",
       "1801   1.83_755.0141    0.000000  1.949370e-07\n",
       "1798  19.22_754.2409    0.000000  3.566217e-07\n",
       "1797  16.16_753.2677    0.000000  4.249760e-06\n",
       "1795  19.30_753.2509    0.000000  1.928364e-07\n",
       "1792   8.34_753.1850    0.000000  9.447257e-07\n",
       "1787  17.05_751.2782    0.000000  7.920438e-06\n",
       "1777   9.98_285.0684    0.000000  1.361596e-06\n",
       "4357  1.54_1105.0190    0.000000  3.944526e-08\n",
       "\n",
       "[1424 rows x 3 columns]"
      ]
     },
     "execution_count": 140,
     "metadata": {},
     "output_type": "execute_result"
    }
   ],
   "source": [
    "l3id[l3id[\"SVC_coeff\"]>0].sort_values(by=\"SVC3\", ascending=False)"
   ]
  },
  {
   "cell_type": "code",
   "execution_count": 112,
   "metadata": {
    "collapsed": false
   },
   "outputs": [],
   "source": [
    "pd.DataFrame?"
   ]
  },
  {
   "cell_type": "code",
   "execution_count": 63,
   "metadata": {
    "collapsed": false
   },
   "outputs": [
    {
     "data": {
      "text/plain": [
       "(4363,)"
      ]
     },
     "execution_count": 63,
     "metadata": {},
     "output_type": "execute_result"
    }
   ],
   "source": [
    "level3.shape"
   ]
  },
  {
   "cell_type": "code",
   "execution_count": 64,
   "metadata": {
    "collapsed": false
   },
   "outputs": [],
   "source": [
    "svr_lin?"
   ]
  },
  {
   "cell_type": "code",
   "execution_count": 115,
   "metadata": {
    "collapsed": false
   },
   "outputs": [
    {
     "data": {
      "text/plain": [
       "'0.19.0'"
      ]
     },
     "execution_count": 115,
     "metadata": {},
     "output_type": "execute_result"
    }
   ],
   "source": [
    "import sklearn\n",
    "sklearn.__version__"
   ]
  },
  {
   "cell_type": "code",
   "execution_count": 86,
   "metadata": {
    "collapsed": false
   },
   "outputs": [
    {
     "ename": "PermissionError",
     "evalue": "[Errno 13] Permission denied: 'svr1_w.xlsx'",
     "output_type": "error",
     "traceback": [
      "\u001b[0;31m---------------------------------------------------------------------------\u001b[0m",
      "\u001b[0;31mPermissionError\u001b[0m                           Traceback (most recent call last)",
      "\u001b[0;32m<ipython-input-86-90c4aeda9d66>\u001b[0m in \u001b[0;36m<module>\u001b[0;34m()\u001b[0m\n\u001b[0;32m----> 1\u001b[0;31m \u001b[0ml3id\u001b[0m\u001b[1;33m.\u001b[0m\u001b[0mto_excel\u001b[0m\u001b[1;33m(\u001b[0m\u001b[1;34m\"svr1_w.xlsx\"\u001b[0m\u001b[1;33m)\u001b[0m\u001b[1;33m\u001b[0m\u001b[0m\n\u001b[0m",
      "\u001b[0;32mC:\\Users\\vanya\\Anaconda3\\lib\\site-packages\\pandas\\core\\frame.py\u001b[0m in \u001b[0;36mto_excel\u001b[0;34m(self, excel_writer, sheet_name, na_rep, float_format, columns, header, index, index_label, startrow, startcol, engine, merge_cells, encoding, inf_rep, verbose)\u001b[0m\n\u001b[1;32m   1425\u001b[0m                                  startrow=startrow, startcol=startcol)\n\u001b[1;32m   1426\u001b[0m         \u001b[1;32mif\u001b[0m \u001b[0mneed_save\u001b[0m\u001b[1;33m:\u001b[0m\u001b[1;33m\u001b[0m\u001b[0m\n\u001b[0;32m-> 1427\u001b[0;31m             \u001b[0mexcel_writer\u001b[0m\u001b[1;33m.\u001b[0m\u001b[0msave\u001b[0m\u001b[1;33m(\u001b[0m\u001b[1;33m)\u001b[0m\u001b[1;33m\u001b[0m\u001b[0m\n\u001b[0m\u001b[1;32m   1428\u001b[0m \u001b[1;33m\u001b[0m\u001b[0m\n\u001b[1;32m   1429\u001b[0m     def to_stata(self, fname, convert_dates=None, write_index=True,\n",
      "\u001b[0;32mC:\\Users\\vanya\\Anaconda3\\lib\\site-packages\\pandas\\io\\excel.py\u001b[0m in \u001b[0;36msave\u001b[0;34m(self)\u001b[0m\n\u001b[1;32m   1442\u001b[0m         \u001b[0mSave\u001b[0m \u001b[0mworkbook\u001b[0m \u001b[0mto\u001b[0m \u001b[0mdisk\u001b[0m\u001b[1;33m.\u001b[0m\u001b[1;33m\u001b[0m\u001b[0m\n\u001b[1;32m   1443\u001b[0m         \"\"\"\n\u001b[0;32m-> 1444\u001b[0;31m         \u001b[1;32mreturn\u001b[0m \u001b[0mself\u001b[0m\u001b[1;33m.\u001b[0m\u001b[0mbook\u001b[0m\u001b[1;33m.\u001b[0m\u001b[0mclose\u001b[0m\u001b[1;33m(\u001b[0m\u001b[1;33m)\u001b[0m\u001b[1;33m\u001b[0m\u001b[0m\n\u001b[0m\u001b[1;32m   1445\u001b[0m \u001b[1;33m\u001b[0m\u001b[0m\n\u001b[1;32m   1446\u001b[0m     \u001b[1;32mdef\u001b[0m \u001b[0mwrite_cells\u001b[0m\u001b[1;33m(\u001b[0m\u001b[0mself\u001b[0m\u001b[1;33m,\u001b[0m \u001b[0mcells\u001b[0m\u001b[1;33m,\u001b[0m \u001b[0msheet_name\u001b[0m\u001b[1;33m=\u001b[0m\u001b[1;32mNone\u001b[0m\u001b[1;33m,\u001b[0m \u001b[0mstartrow\u001b[0m\u001b[1;33m=\u001b[0m\u001b[1;36m0\u001b[0m\u001b[1;33m,\u001b[0m \u001b[0mstartcol\u001b[0m\u001b[1;33m=\u001b[0m\u001b[1;36m0\u001b[0m\u001b[1;33m)\u001b[0m\u001b[1;33m:\u001b[0m\u001b[1;33m\u001b[0m\u001b[0m\n",
      "\u001b[0;32mC:\\Users\\vanya\\Anaconda3\\lib\\site-packages\\xlsxwriter\\workbook.py\u001b[0m in \u001b[0;36mclose\u001b[0;34m(self)\u001b[0m\n\u001b[1;32m    295\u001b[0m         \u001b[1;32mif\u001b[0m \u001b[1;32mnot\u001b[0m \u001b[0mself\u001b[0m\u001b[1;33m.\u001b[0m\u001b[0mfileclosed\u001b[0m\u001b[1;33m:\u001b[0m\u001b[1;33m\u001b[0m\u001b[0m\n\u001b[1;32m    296\u001b[0m             \u001b[0mself\u001b[0m\u001b[1;33m.\u001b[0m\u001b[0mfileclosed\u001b[0m \u001b[1;33m=\u001b[0m \u001b[1;36m1\u001b[0m\u001b[1;33m\u001b[0m\u001b[0m\n\u001b[0;32m--> 297\u001b[0;31m             \u001b[0mself\u001b[0m\u001b[1;33m.\u001b[0m\u001b[0m_store_workbook\u001b[0m\u001b[1;33m(\u001b[0m\u001b[1;33m)\u001b[0m\u001b[1;33m\u001b[0m\u001b[0m\n\u001b[0m\u001b[1;32m    298\u001b[0m \u001b[1;33m\u001b[0m\u001b[0m\n\u001b[1;32m    299\u001b[0m     \u001b[1;32mdef\u001b[0m \u001b[0mset_size\u001b[0m\u001b[1;33m(\u001b[0m\u001b[0mself\u001b[0m\u001b[1;33m,\u001b[0m \u001b[0mwidth\u001b[0m\u001b[1;33m,\u001b[0m \u001b[0mheight\u001b[0m\u001b[1;33m)\u001b[0m\u001b[1;33m:\u001b[0m\u001b[1;33m\u001b[0m\u001b[0m\n",
      "\u001b[0;32mC:\\Users\\vanya\\Anaconda3\\lib\\site-packages\\xlsxwriter\\workbook.py\u001b[0m in \u001b[0;36m_store_workbook\u001b[0;34m(self)\u001b[0m\n\u001b[1;32m    609\u001b[0m \u001b[1;33m\u001b[0m\u001b[0m\n\u001b[1;32m    610\u001b[0m         xlsx_file = ZipFile(self.filename, \"w\", compression=ZIP_DEFLATED,\n\u001b[0;32m--> 611\u001b[0;31m                             allowZip64=self.allow_zip64)\n\u001b[0m\u001b[1;32m    612\u001b[0m \u001b[1;33m\u001b[0m\u001b[0m\n\u001b[1;32m    613\u001b[0m         \u001b[1;31m# Add XML sub-files to the Zip file with their Excel filename.\u001b[0m\u001b[1;33m\u001b[0m\u001b[1;33m\u001b[0m\u001b[0m\n",
      "\u001b[0;32mC:\\Users\\vanya\\Anaconda3\\lib\\zipfile.py\u001b[0m in \u001b[0;36m__init__\u001b[0;34m(self, file, mode, compression, allowZip64)\u001b[0m\n\u001b[1;32m   1007\u001b[0m             \u001b[1;32mwhile\u001b[0m \u001b[1;32mTrue\u001b[0m\u001b[1;33m:\u001b[0m\u001b[1;33m\u001b[0m\u001b[0m\n\u001b[1;32m   1008\u001b[0m                 \u001b[1;32mtry\u001b[0m\u001b[1;33m:\u001b[0m\u001b[1;33m\u001b[0m\u001b[0m\n\u001b[0;32m-> 1009\u001b[0;31m                     \u001b[0mself\u001b[0m\u001b[1;33m.\u001b[0m\u001b[0mfp\u001b[0m \u001b[1;33m=\u001b[0m \u001b[0mio\u001b[0m\u001b[1;33m.\u001b[0m\u001b[0mopen\u001b[0m\u001b[1;33m(\u001b[0m\u001b[0mfile\u001b[0m\u001b[1;33m,\u001b[0m \u001b[0mfilemode\u001b[0m\u001b[1;33m)\u001b[0m\u001b[1;33m\u001b[0m\u001b[0m\n\u001b[0m\u001b[1;32m   1010\u001b[0m                 \u001b[1;32mexcept\u001b[0m \u001b[0mOSError\u001b[0m\u001b[1;33m:\u001b[0m\u001b[1;33m\u001b[0m\u001b[0m\n\u001b[1;32m   1011\u001b[0m                     \u001b[1;32mif\u001b[0m \u001b[0mfilemode\u001b[0m \u001b[1;32min\u001b[0m \u001b[0mmodeDict\u001b[0m\u001b[1;33m:\u001b[0m\u001b[1;33m\u001b[0m\u001b[0m\n",
      "\u001b[0;31mPermissionError\u001b[0m: [Errno 13] Permission denied: 'svr1_w.xlsx'"
     ]
    }
   ],
   "source": [
    "l3id.to_excel(\"svr1_w.xlsx\")"
   ]
  },
  {
   "cell_type": "code",
   "execution_count": 121,
   "metadata": {
    "collapsed": false
   },
   "outputs": [],
   "source": [
    "weights = shuffled_data['Activity increasing 1 to 3']"
   ]
  },
  {
   "cell_type": "code",
   "execution_count": 122,
   "metadata": {
    "collapsed": false
   },
   "outputs": [],
   "source": [
    "weights = weights.replace(3, .40)"
   ]
  },
  {
   "cell_type": "code",
   "execution_count": 123,
   "metadata": {
    "collapsed": false
   },
   "outputs": [],
   "source": [
    "weights = weights.replace(2, .20)"
   ]
  },
  {
   "cell_type": "code",
   "execution_count": 124,
   "metadata": {
    "collapsed": true
   },
   "outputs": [],
   "source": [
    "weights = weights.replace(1, .40)"
   ]
  },
  {
   "cell_type": "code",
   "execution_count": 125,
   "metadata": {
    "collapsed": false
   },
   "outputs": [
    {
     "data": {
      "text/plain": [
       "2    0.2\n",
       "3    0.2\n",
       "5    0.4\n",
       "4    0.4\n",
       "1    0.4\n",
       "0    0.4\n",
       "Name: Activity increasing 1 to 3, dtype: float64"
      ]
     },
     "execution_count": 125,
     "metadata": {},
     "output_type": "execute_result"
    }
   ],
   "source": [
    "weights"
   ]
  },
  {
   "cell_type": "code",
   "execution_count": null,
   "metadata": {
    "collapsed": true
   },
   "outputs": [],
   "source": []
  },
  {
   "cell_type": "code",
   "execution_count": null,
   "metadata": {
    "collapsed": true
   },
   "outputs": [],
   "source": []
  }
 ],
 "metadata": {
  "anaconda-cloud": {},
  "kernelspec": {
   "display_name": "Python [default]",
   "language": "python",
   "name": "python3"
  },
  "language_info": {
   "codemirror_mode": {
    "name": "ipython",
    "version": 3
   },
   "file_extension": ".py",
   "mimetype": "text/x-python",
   "name": "python",
   "nbconvert_exporter": "python",
   "pygments_lexer": "ipython3",
   "version": "3.5.2"
  }
 },
 "nbformat": 4,
 "nbformat_minor": 1
}
